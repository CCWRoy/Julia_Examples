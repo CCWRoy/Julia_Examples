{
 "metadata": {
  "language": "Julia",
  "name": "",
  "signature": "sha256:459d79dbc790707eb460a33bedc1b3244105e5717aa7cc111d82571d3a347f26"
 },
 "nbformat": 3,
 "nbformat_minor": 0,
 "worksheets": [
  {
   "cells": [
    {
     "cell_type": "code",
     "collapsed": false,
     "input": [
      "# pyplot_boxplot.jl\n",
      "#\n",
      "# gizmaa (https://gist.github.com/gizmaa/7214002)\n",
      "# Julia 0.3.2\n",
      "# Created: 30.10.13\n",
      "# Last Edit: 12.12.14\n",
      "\n",
      "using PyPlot\n",
      "\n",
      "# http://matplotlib.org/api/pyplot_api.html#matplotlib.pyplot.boxplot\n",
      "# http://matplotlib.org/examples/pylab_examples/boxplot_demo.html\n",
      "\n",
      "###################\n",
      "##  Create Data  ##\n",
      "###################\n",
      "# Boxes with irregular amounts of data can\n",
      "# be plotted by putting the data into bins in an ANY array.\n",
      "num = 5\n",
      "data = Array(Any,num) # Preallocate an ANY array for the storage of final values\n",
      "for i=1:1:num\n",
      "    num1 = round(40rand(1)) + 10\n",
      "    num1 = int(num1[1])\n",
      "    num2 = round(20rand(1)) + 10\n",
      "    num2 = int(num2[1])\n",
      "    num3 = round(10rand(1)) + 1\n",
      "    num3 = int(num3[1])\n",
      "    num4 = round(10rand(1)) + 1\n",
      "    num4 = int(num4[1])\n",
      "    \n",
      "    spread = 100rand(num1)\n",
      "    center = 50rand(num2)\n",
      "    flier_high = 100rand(num3) + 100\n",
      "    flier_low = -100rand(num4)\n",
      "    data[i] = [spread,center,flier_high,flier_low]\n",
      "end"
     ],
     "language": "python",
     "metadata": {},
     "outputs": []
    },
    {
     "cell_type": "code",
     "collapsed": false,
     "input": [
      "################\n",
      "##  Box Plot  ##\n",
      "################\n",
      "fig = figure(\"pyplot_boxplot\",figsize=(10,10))\n",
      "subplot(221)\n",
      "boxplot(data) # Basic\n",
      "\n",
      "subplot(222)\n",
      "boxplot(data,1)\n",
      "\n",
      "subplot(223)\n",
      "boxplot(data,0,\"gD\")\n",
      "\n",
      "subplot(224)\n",
      "boxplot(data, # Each column/cell is one box\n",
      "    notch=true, # Notched center\n",
      "    whis=0.75, # Whisker length as a percent of inner quartile range\n",
      "    widths=0.25, # Width of boxes\n",
      "    vert=false, # Horizontal boxes\n",
      "    sym=\"rs\") # Symbol color and shape (rs = red square)\n",
      "\n",
      "suptitle(\"Box Plot Examples\")"
     ],
     "language": "python",
     "metadata": {},
     "outputs": []
    }
   ],
   "metadata": {}
  }
 ]
}