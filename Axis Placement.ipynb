{
 "metadata": {
  "language": "Julia",
  "name": "",
  "signature": "sha256:8f78818a4553f5a477b94ce3cf9906c84696ba0821972719617c5fe39bdda144"
 },
 "nbformat": 3,
 "nbformat_minor": 0,
 "worksheets": [
  {
   "cells": [
    {
     "cell_type": "code",
     "collapsed": false,
     "input": [
      "# Moving Axes Demonstration\n",
      "# \n",
      "# gizmaa (https://gist.github.com/gizmaa/7214002)\n",
      "# Julia 0.3.2\n",
      "# 20.12.13\n",
      "# Last Edit: 09.12.14\n",
      "\n",
      "using PyPlot\n",
      "\n",
      "close(\"all\")\n",
      "\n",
      "###################\n",
      "#  Generate Data  #\n",
      "###################\n",
      "x = [0:pi/50:2pi]\n",
      "y = sin(x)"
     ],
     "language": "python",
     "metadata": {},
     "outputs": [
      {
       "metadata": {},
       "output_type": "pyout",
       "prompt_number": 2,
       "text": [
        "100-element Array{Float64,1}:\n",
        "  0.0      \n",
        "  0.0627905\n",
        "  0.125333 \n",
        "  0.187381 \n",
        "  0.24869  \n",
        "  0.309017 \n",
        "  0.368125 \n",
        "  0.425779 \n",
        "  0.481754 \n",
        "  0.535827 \n",
        "  0.587785 \n",
        "  0.637424 \n",
        "  0.684547 \n",
        "  \u22ee        \n",
        " -0.684547 \n",
        " -0.637424 \n",
        " -0.587785 \n",
        " -0.535827 \n",
        " -0.481754 \n",
        " -0.425779 \n",
        " -0.368125 \n",
        " -0.309017 \n",
        " -0.24869  \n",
        " -0.187381 \n",
        " -0.125333 \n",
        " -0.0627905"
       ]
      }
     ],
     "prompt_number": 2
    },
    {
     "cell_type": "code",
     "collapsed": false,
     "input": [
      "###############\n",
      "#  Plot Data  #\n",
      "###############\n",
      "fig = figure(\"axis_placement\",figsize=(10,10))\n",
      "subplot(211)\n",
      "p = plot(x,y)\n",
      "ax = gca()\n",
      "axis(\"tight\")\n",
      "ax[:spines][\"top\"][:set_visible](false) # Hide the top edge of the axis\n",
      "ax[:spines][\"right\"][:set_visible](false) # Hide the right edge of the axis\n",
      "ax[:spines][\"left\"][:set_position](\"center\") # Move the right axis to the center\n",
      "ax[:spines][\"bottom\"][:set_position](\"center\") # Most the bottom axis to the center\n",
      "#ax[:spines][\"left\"][:set_smart_bounds](true)\n",
      "ax[:xaxis][:set_ticks_position](\"bottom\") # Set the x-ticks to only the bottom\n",
      "ax[:yaxis][:set_ticks_position](\"left\") # Set the y-ticks to only the left\n",
      "\n",
      "subplot(212)\n",
      "p = plot(x,y)\n",
      "ax2 = gca()\n",
      "axis(\"tight\")\n",
      "ax2[:spines][\"top\"][:set_visible](false) # Hide the top edge of the axis\n",
      "ax2[:spines][\"right\"][:set_visible](false) # Hide the right edge of the axis\n",
      "ax2[:xaxis][:set_ticks_position](\"bottom\")\n",
      "ax2[:yaxis][:set_ticks_position](\"left\")\n",
      "ax2[:spines][\"left\"][:set_position]((\"axes\",-0.03)) # Offset the left scale from the axis\n",
      "ax2[:spines][\"bottom\"][:set_position]((\"axes\",-0.05)) # Offset the bottom scale from the axis\n",
      "xlabel(\"X Axis\")\n",
      "ylabel(\"Y Axis\")\n",
      "\n",
      "suptitle(\"Axis Placement\")"
     ],
     "language": "python",
     "metadata": {},
     "outputs": [
      {
       "metadata": {},
       "output_type": "pyout",
       "prompt_number": 3,
       "text": [
        "PyObject <matplotlib.text.Text object at 0x7fac93bb3750>"
       ]
      }
     ],
     "prompt_number": 3
    },
    {
     "cell_type": "code",
     "collapsed": false,
     "input": [],
     "language": "python",
     "metadata": {},
     "outputs": []
    }
   ],
   "metadata": {}
  }
 ]
}