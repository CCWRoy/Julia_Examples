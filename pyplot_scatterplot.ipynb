{
 "metadata": {
  "language": "Julia",
  "name": "",
  "signature": "sha256:b0579a89447d3c1b63fa203e18264da1a1d65c02ee33c066dc4ca6749b9d5ba0"
 },
 "nbformat": 3,
 "nbformat_minor": 0,
 "worksheets": [
  {
   "cells": [
    {
     "cell_type": "code",
     "collapsed": false,
     "input": [
      "# pyplot_scatterplot.jl\n",
      "#\n",
      "# gizmaa (https://gist.github.com/gizmaa/7214002)\n",
      "# Julia 0.3.2\n",
      "# Created: 29.10.13\n",
      "# Last Edit: 12.12.14"
     ],
     "language": "python",
     "metadata": {},
     "outputs": []
    },
    {
     "cell_type": "code",
     "collapsed": false,
     "input": [
      "using PyPlot\n",
      "\n",
      "#################\n",
      "#  Create Data  #\n",
      "#################\n",
      "x = 100*rand(50)\n",
      "y = 100*rand(50)\n",
      "areas = 800*rand(50)"
     ],
     "language": "python",
     "metadata": {},
     "outputs": []
    },
    {
     "cell_type": "code",
     "collapsed": false,
     "input": [
      "##################\n",
      "#  Scatter Plot  #\n",
      "##################\n",
      "fig = figure(\"pyplot_scatterplot\",figsize=(10,10))\n",
      "ax = axes()\n",
      "scatter(x,y,s=areas,alpha=0.5)\n",
      "\n",
      "title(\"Scatter Plot\")\n",
      "xlabel(\"X\")\n",
      "ylabel(\"Y\")\n",
      "grid(\"on\")"
     ],
     "language": "python",
     "metadata": {},
     "outputs": []
    }
   ],
   "metadata": {}
  }
 ]
}