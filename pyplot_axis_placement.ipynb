{
 "metadata": {
  "language": "Julia",
  "name": "",
  "signature": "sha256:6b636cbea7ef044229c200c7b4ff9bb4fe2bf55800e66a48c0498feec8bdb9e5"
 },
 "nbformat": 3,
 "nbformat_minor": 0,
 "worksheets": [
  {
   "cells": [
    {
     "cell_type": "code",
     "collapsed": false,
     "input": [
      "# pyplot_axis_placement.jl\n",
      "#\n",
      "#    Demonstrate placement of axes\n",
      "#\n",
      "# gizmaa (https://gist.github.com/gizmaa/7214002)\n",
      "# Julia 0.3.2\n",
      "# 20.12.13\n",
      "# Last Edit: 12.12.14\n",
      "\n",
      "using PyPlot\n",
      "\n",
      "close(\"all\")\n",
      "\n",
      "###################\n",
      "#  Generate Data  #\n",
      "###################\n",
      "x = [0:pi/50:2pi]\n",
      "y = sin(x)"
     ],
     "language": "python",
     "metadata": {},
     "outputs": []
    },
    {
     "cell_type": "code",
     "collapsed": false,
     "input": [
      "###############\n",
      "#  Plot Data  #\n",
      "###############\n",
      "fig = figure(\"pyplot_axis_placement\",figsize=(10,10))\n",
      "subplot(211)\n",
      "p = plot(x,y)\n",
      "ax = gca()\n",
      "axis(\"tight\")\n",
      "ax[:spines][\"top\"][:set_visible](false) # Hide the top edge of the axis\n",
      "ax[:spines][\"right\"][:set_visible](false) # Hide the right edge of the axis\n",
      "ax[:spines][\"left\"][:set_position](\"center\") # Move the right axis to the center\n",
      "ax[:spines][\"bottom\"][:set_position](\"center\") # Most the bottom axis to the center\n",
      "#ax[:spines][\"left\"][:set_smart_bounds](true)\n",
      "ax[:xaxis][:set_ticks_position](\"bottom\") # Set the x-ticks to only the bottom\n",
      "ax[:yaxis][:set_ticks_position](\"left\") # Set the y-ticks to only the left\n",
      "\n",
      "subplot(212)\n",
      "p = plot(x,y)\n",
      "ax2 = gca()\n",
      "axis(\"tight\")\n",
      "ax2[:spines][\"top\"][:set_visible](false) # Hide the top edge of the axis\n",
      "ax2[:spines][\"right\"][:set_visible](false) # Hide the right edge of the axis\n",
      "ax2[:xaxis][:set_ticks_position](\"bottom\")\n",
      "ax2[:yaxis][:set_ticks_position](\"left\")\n",
      "ax2[:spines][\"left\"][:set_position]((\"axes\",-0.03)) # Offset the left scale from the axis\n",
      "ax2[:spines][\"bottom\"][:set_position]((\"axes\",-0.05)) # Offset the bottom scale from the axis\n",
      "xlabel(\"X Axis\")\n",
      "ylabel(\"Y Axis\")\n",
      "\n",
      "suptitle(\"Axis Placement\")"
     ],
     "language": "python",
     "metadata": {},
     "outputs": []
    }
   ],
   "metadata": {}
  }
 ]
}