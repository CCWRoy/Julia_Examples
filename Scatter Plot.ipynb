{
 "metadata": {
  "language": "Julia",
  "name": "",
  "signature": "sha256:c611824458dd79d811934d686701894941ff4cb317151a305a0e893f0705cc64"
 },
 "nbformat": 3,
 "nbformat_minor": 0,
 "worksheets": [
  {
   "cells": [
    {
     "cell_type": "code",
     "collapsed": false,
     "input": [
      "# scatterplot_example.jl\n",
      "#\n",
      "# gizmaa (https://gist.github.com/gizmaa/7214002)\n",
      "# Julia 0.3.2\n",
      "# Created: 29.10.13\n",
      "# Last Edit: 09.12.14"
     ],
     "language": "python",
     "metadata": {},
     "outputs": [],
     "prompt_number": 1
    },
    {
     "cell_type": "code",
     "collapsed": false,
     "input": [
      "using PyPlot\n",
      "\n",
      "#################\n",
      "#  Create Data  #\n",
      "#################\n",
      "x = 100*rand(50)\n",
      "y = 100*rand(50)\n",
      "areas = 800*rand(50)"
     ],
     "language": "python",
     "metadata": {},
     "outputs": [
      {
       "metadata": {},
       "output_type": "pyout",
       "prompt_number": 2,
       "text": [
        "50-element Array{Float64,1}:\n",
        " 574.388 \n",
        " 250.355 \n",
        " 136.198 \n",
        " 346.738 \n",
        " 117.736 \n",
        " 591.466 \n",
        " 755.546 \n",
        "  95.543 \n",
        " 534.513 \n",
        "  13.1832\n",
        " 792.886 \n",
        " 778.931 \n",
        " 416.818 \n",
        "   \u22ee     \n",
        " 450.222 \n",
        " 128.416 \n",
        " 431.441 \n",
        " 782.288 \n",
        " 460.978 \n",
        " 587.477 \n",
        " 718.04  \n",
        " 594.499 \n",
        " 600.843 \n",
        " 165.583 \n",
        " 375.918 \n",
        " 612.116 "
       ]
      }
     ],
     "prompt_number": 2
    },
    {
     "cell_type": "code",
     "collapsed": false,
     "input": [
      "##################\n",
      "#  Scatter Plot  #\n",
      "##################\n",
      "fig = figure(\"scatterplot_example\",figsize=(10,10))\n",
      "ax = axes()\n",
      "scatter(x,y,s=areas,alpha=0.5)\n",
      "\n",
      "title(\"Scatter Plot\")\n",
      "xlabel(\"X\")\n",
      "ylabel(\"Y\")\n",
      "grid(\"on\")"
     ],
     "language": "python",
     "metadata": {},
     "outputs": [],
     "prompt_number": 3
    },
    {
     "cell_type": "code",
     "collapsed": false,
     "input": [],
     "language": "python",
     "metadata": {},
     "outputs": []
    }
   ],
   "metadata": {}
  }
 ]
}