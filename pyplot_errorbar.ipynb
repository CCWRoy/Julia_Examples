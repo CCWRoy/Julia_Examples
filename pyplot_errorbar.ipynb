{
 "metadata": {
  "language": "Julia",
  "name": "",
  "signature": "sha256:bb7aac5fbd6daafbe95eac6519726ac792f25e04706680cda655769861bfcade"
 },
 "nbformat": 3,
 "nbformat_minor": 0,
 "worksheets": [
  {
   "cells": [
    {
     "cell_type": "code",
     "collapsed": false,
     "input": [
      "# pyplot_errorbar.jl\n",
      "#\n",
      "# gizmaa (https://gist.github.com/gizmaa/7214002)\n",
      "# Julia 0.3.2\n",
      "# Last Edit: 12.12.14\n",
      "\n",
      "using Dates\n",
      "using PyPlot\n",
      "\n",
      "###################################\n",
      "#  Generate a few points of data  #\n",
      "###################################\n",
      "x = [DateTime(2013,10,4):Day(1):DateTime(2013,10,9)]\n",
      "y = [0.9;0.75;0.5;0.4;0.35;0.3]\n",
      "uppererror = [0.05 0.05 0.05 0.03 0.15 0.05]\n",
      "lowererror = [0.15 0.2 0.05 0.1 0.05 0.05]\n",
      "errs = [lowererror;uppererror]\n",
      "\n",
      "println(\"From \" * string(x[1]) * \" to \" * string(x[end]))\n",
      "\n",
      "x = float64(x)/1000/60/60/24 # Convert time from milliseconds from day 0 to days from day 0"
     ],
     "language": "python",
     "metadata": {},
     "outputs": []
    },
    {
     "cell_type": "code",
     "collapsed": false,
     "input": [
      "##########\n",
      "#  Plot  #\n",
      "##########\n",
      "fig = figure(\"pyplot_errorbar\",figsize=(10,10)) # Create a new figure\n",
      "p = plot_date(x,y,linestyle=\"-\",marker=\"None\",label=\"Base Plot\") # Basic line plot\n",
      "pe = errorbar(x,y,yerr=errs,fmt=\"o\") # Plot irregular error bars\n",
      "axis(\"tight\")\n",
      "ax = gca() # Get the handle of the current axis\n",
      "title(\"Error Bar Example\")\n",
      "xlabel(\"Time\")\n",
      "ylabel(\"Some Data\")\n",
      "grid(\"on\")\n",
      "\n",
      "fig[:autofmt_xdate](bottom=0.2,rotation=30,ha=\"right\") # Autoformat the time format and rotate the labels so they don't overlap\n",
      "fig[:canvas][:draw]() # Update the figure"
     ],
     "language": "python",
     "metadata": {},
     "outputs": []
    }
   ],
   "metadata": {}
  }
 ]
}