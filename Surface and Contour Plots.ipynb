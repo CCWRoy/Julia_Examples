{
 "metadata": {
  "language": "Julia",
  "name": "",
  "signature": "sha256:2d40a9b3cb69a5edc45f53b3f96cb7f4afc79c0d8d5ad472d35251e3a765afb8"
 },
 "nbformat": 3,
 "nbformat_minor": 0,
 "worksheets": [
  {
   "cells": [
    {
     "cell_type": "code",
     "collapsed": false,
     "input": [
      "# surface_example.jl\n",
      "#\n",
      "#\tSurface Plot Example\n",
      "#\n",
      "# Daniel H\u00f8egh (https://gist.github.com/dhoegh)\n",
      "# Julia 0.3.2\n",
      "# 09.12.2014\n",
      "# Last Edit: 09.12.2014\n",
      "\n",
      "# Reference: https://groups.google.com/d/msg/julia-users/eVtZdp3htTM/TJOt3exCxKgJ\n",
      "\n",
      "using PyPlot\n",
      "using Distributions\n",
      "\n",
      "###################\n",
      "##  Create Data  ##\n",
      "###################\n",
      "n = 100\n",
      "x = linspace(-3, 3, n)\n",
      "y = linspace(-3,3,n)\n",
      "\n",
      "xgrid = repmat(x',n,1)\n",
      "ygrid = repmat(y,1,n)\n",
      "\n",
      "z = zeros(n,n)\n",
      "\n",
      "for i in 1:n\n",
      "    for j in 1:n\n",
      "        z[i:i,j:j] = pdf(MvNormal([eye(2)]),[x[i] y[j]]')\n",
      "    end\n",
      "end"
     ],
     "language": "python",
     "metadata": {},
     "outputs": [],
     "prompt_number": 1
    },
    {
     "cell_type": "code",
     "collapsed": false,
     "input": [
      "############\n",
      "##  Plot  ##\n",
      "############\n",
      "fig = figure(\"Surface Plot\",figsize=(16,10))\n",
      "ax = fig[:add_subplot](2,1,1, projection = \"3d\") \n",
      "ax[:plot_surface](xgrid, ygrid, z, rstride=2,edgecolors=\"k\", cstride=2, cmap=ColorMap(\"gray\"), alpha=0.8, linewidth=0.25) \n",
      "xlabel(\"X\") \n",
      "ylabel(\"Y\")\n",
      "title(\"Surface Plot\")\n",
      "\n",
      "subplot(212) \n",
      "ax = fig[:add_subplot](2,1,2) \n",
      "cp = ax[:contour](xgrid, ygrid, z, colors=\"black\", linewidth=2.0) \n",
      "ax[:clabel](cp, inline=1, fontsize=10) \n",
      "xlabel(\"X\") \n",
      "ylabel(\"Y\")\n",
      "title(\"Contour Plot\")\n",
      "tight_layout()"
     ],
     "language": "python",
     "metadata": {},
     "outputs": [],
     "prompt_number": 2
    },
    {
     "cell_type": "code",
     "collapsed": false,
     "input": [],
     "language": "python",
     "metadata": {},
     "outputs": []
    }
   ],
   "metadata": {}
  }
 ]
}