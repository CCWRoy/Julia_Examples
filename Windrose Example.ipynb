{
 "metadata": {
  "language": "Julia",
  "name": "",
  "signature": "sha256:2e31e6b25e35bac435ed7acffce63b08be534c42b4a8ac991c2bf59d911a8b79"
 },
 "nbformat": 3,
 "nbformat_minor": 0,
 "worksheets": [
  {
   "cells": [
    {
     "cell_type": "code",
     "collapsed": false,
     "input": [
      "# windrose_test.jl\n",
      "#\n",
      "# gizmaa (https://gist.github.com/gizmaa/7214002)\n",
      "# Julia 0.3.2\n",
      "# Last Edit: 09.12.14\n",
      "\n",
      "using PyPlot\n",
      "\n",
      "#################\n",
      "#  Create Data  #\n",
      "#################\n",
      "theta = [0:2pi/30:2pi]\n",
      "r = rand(length(theta))\n",
      "width = 2pi/length(theta) # Desired width of each bar in the bar plot"
     ],
     "language": "python",
     "metadata": {},
     "outputs": [
      {
       "metadata": {},
       "output_type": "pyout",
       "prompt_number": 2,
       "text": [
        "0.2026833970057931"
       ]
      }
     ],
     "prompt_number": 2
    },
    {
     "cell_type": "code",
     "collapsed": false,
     "input": [
      "##########################\n",
      "##  Windrose Line Plot  ##\n",
      "##########################\n",
      "fig = figure(\"windrose_line\",figsize=(10,10)) # Create a new figure\n",
      "ax = axes(polar=\"true\") # Create a polar axis\n",
      "title(\"Wind Rose - Line\")\n",
      "p = plot(theta,r,linestyle=\"-\",marker=\"None\") # Basic line plot\n",
      "\n",
      "dtheta = 10\n",
      "ax[:set_thetagrids]([0:dtheta:360-dtheta]) # Show grid lines from 0 to 360 in increments of dtheta\n",
      "ax[:set_theta_zero_location](\"N\") # Set 0 degrees to the top of the plot\n",
      "ax[:set_theta_direction](-1) # Switch to clockwise\n",
      "fig[:canvas][:draw]() # Update the figure\n",
      "\n",
      "#########################\n",
      "##  Windrose Bar Plot  ##\n",
      "#########################\n",
      "fig = figure(\"windrose_bar\",figsize=(10,10)) # Create a new figure\n",
      "ax = axes(polar=\"true\") # Create a polar axis\n",
      "title(\"Wind Rose - Bar\")\n",
      "b = bar(theta,r,width=width) # Bar plot\n",
      "\n",
      "dtheta = 10\n",
      "ax[:set_thetagrids]([0:dtheta:360-dtheta]) # Show grid lines from 0 to 360 in increments of dtheta\n",
      "ax[:set_theta_zero_location](\"N\") # Set 0 degrees to the top of the plot\n",
      "ax[:set_theta_direction](-1) # Switch to clockwise\n",
      "fig[:canvas][:draw]() # Update the figure"
     ],
     "language": "python",
     "metadata": {},
     "outputs": [],
     "prompt_number": 4
    },
    {
     "cell_type": "code",
     "collapsed": false,
     "input": [],
     "language": "python",
     "metadata": {},
     "outputs": []
    }
   ],
   "metadata": {}
  }
 ]
}