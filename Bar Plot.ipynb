{
 "metadata": {
  "language": "Julia",
  "name": "",
  "signature": "sha256:04877eb06dea25ec71aad88a3da33020ca66b790e6ec4338768bf2b228e6d47e"
 },
 "nbformat": 3,
 "nbformat_minor": 0,
 "worksheets": [
  {
   "cells": [
    {
     "cell_type": "code",
     "collapsed": false,
     "input": [
      "# barplot_example.jl\n",
      "#\n",
      "# gizmaa (https://gist.github.com/gizmaa/7214002)\n",
      "# Julia 0.3.2\n",
      "# Created: 29.10.13\n",
      "# Last Edit: 09.12.14\n",
      "\n",
      "using PyPlot\n",
      "\n",
      "close(\"all\") # Close all currently open figures\n",
      "\n",
      "#################\n",
      "#  Create Data  #\n",
      "#################\n",
      "x = [1:1:50]\n",
      "y = 100*rand(50);"
     ],
     "language": "python",
     "metadata": {},
     "outputs": [],
     "prompt_number": 2
    },
    {
     "cell_type": "code",
     "collapsed": false,
     "input": [
      "################\n",
      "##  Bar Plot  ##\n",
      "################\n",
      "fig = figure(\"barplot_example\",figsize=(10,10))\n",
      "subplot(211)\n",
      "b = bar(x,y,color=\"#0f87bf\",align=\"center\",alpha=0.4)\n",
      "axis(\"tight\")\n",
      "title(\"Vertical Bar Plot\")\n",
      "grid(\"on\")\n",
      "xlabel(\"X\")\n",
      "ylabel(\"Y\")\n",
      "\n",
      "subplot(212)\n",
      "b = barh(x,y,color=\"#0f87bf\",align=\"center\",alpha=0.4)\n",
      "\n",
      "axis(\"tight\")\n",
      "title(\"Horizontal Bar Plot\")\n",
      "grid(\"on\")\n",
      "xlabel(\"X\")\n",
      "ylabel(\"Y\")\n",
      "\n",
      "suptitle(\"Bar Plot Examples\")"
     ],
     "language": "python",
     "metadata": {},
     "outputs": [
      {
       "metadata": {},
       "output_type": "pyout",
       "prompt_number": 3,
       "text": [
        "PyObject <matplotlib.text.Text object at 0x7fa3cca64190>"
       ]
      }
     ],
     "prompt_number": 3
    },
    {
     "cell_type": "code",
     "collapsed": false,
     "input": [],
     "language": "python",
     "metadata": {},
     "outputs": []
    }
   ],
   "metadata": {}
  }
 ]
}