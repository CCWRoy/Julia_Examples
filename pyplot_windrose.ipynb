{
 "metadata": {
  "language": "Julia",
  "name": "",
  "signature": "sha256:01765fab7c86b844509b5512be8fe48aa39819de01dcdcefc2e6ba9a85241ce6"
 },
 "nbformat": 3,
 "nbformat_minor": 0,
 "worksheets": [
  {
   "cells": [
    {
     "cell_type": "code",
     "collapsed": false,
     "input": [
      "# pyplot_windrose.jl\n",
      "#\n",
      "# gizmaa (https://gist.github.com/gizmaa/7214002)\n",
      "# Julia 0.3.2\n",
      "# Last Edit: 12.12.14\n",
      "\n",
      "using PyPlot\n",
      "\n",
      "#################\n",
      "#  Create Data  #\n",
      "#################\n",
      "theta = [0:2pi/30:2pi]\n",
      "r = rand(length(theta))\n",
      "width = 2pi/length(theta) # Desired width of each bar in the bar plot"
     ],
     "language": "python",
     "metadata": {},
     "outputs": []
    },
    {
     "cell_type": "code",
     "collapsed": false,
     "input": [
      "##########################\n",
      "##  Windrose Line Plot  ##\n",
      "##########################\n",
      "fig = figure(\"pyplot_windrose_line\",figsize=(10,10)) # Create a new figure\n",
      "ax = axes(polar=\"true\") # Create a polar axis\n",
      "title(\"Wind Rose - Line\")\n",
      "p = plot(theta,r,linestyle=\"-\",marker=\"None\") # Basic line plot\n",
      "\n",
      "dtheta = 10\n",
      "ax[:set_thetagrids]([0:dtheta:360-dtheta]) # Show grid lines from 0 to 360 in increments of dtheta\n",
      "ax[:set_theta_zero_location](\"N\") # Set 0 degrees to the top of the plot\n",
      "ax[:set_theta_direction](-1) # Switch to clockwise\n",
      "fig[:canvas][:draw]() # Update the figure\n",
      "\n",
      "#########################\n",
      "##  Windrose Bar Plot  ##\n",
      "#########################\n",
      "fig = figure(\"pyplot_windrose_bar\",figsize=(10,10)) # Create a new figure\n",
      "ax = axes(polar=\"true\") # Create a polar axis\n",
      "title(\"Wind Rose - Bar\")\n",
      "b = bar(theta,r,width=width) # Bar plot\n",
      "\n",
      "dtheta = 10\n",
      "ax[:set_thetagrids]([0:dtheta:360-dtheta]) # Show grid lines from 0 to 360 in increments of dtheta\n",
      "ax[:set_theta_zero_location](\"N\") # Set 0 degrees to the top of the plot\n",
      "ax[:set_theta_direction](-1) # Switch to clockwise\n",
      "fig[:canvas][:draw]() # Update the figure"
     ],
     "language": "python",
     "metadata": {},
     "outputs": []
    }
   ],
   "metadata": {}
  }
 ]
}