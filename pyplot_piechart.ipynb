{
 "metadata": {
  "language": "Julia",
  "name": "",
  "signature": "sha256:5c2262fe24c443601f8a6281f9d64c08088652f553250d61729b8c8962dc3fda"
 },
 "nbformat": 3,
 "nbformat_minor": 0,
 "worksheets": [
  {
   "cells": [
    {
     "cell_type": "code",
     "collapsed": false,
     "input": [
      "# pyplot_piechart.jl\n",
      "#\n",
      "# gizmaa (https://gist.github.com/gizmaa/7214002)\n",
      "# Julia 0.3.2\n",
      "# Created: 29.10.13\n",
      "# Last Edit: 12.12.14\n",
      "\n",
      "using PyPlot\n",
      "\n",
      "#################\n",
      "#  Create Data  #\n",
      "#################\n",
      "labels = [\"Lager\",\"Pilsner\",\"Stout\",\"IPA\"]\n",
      "colors = [\"yellowgreen\",\"gold\",\"lightskyblue\",\"lightcoral\"]\n",
      "sizes = NaN*zeros(4)\n",
      "explode = zeros(length(sizes))\n",
      "explode[round(length(sizes)*rand(1))] = 0.1\n",
      "sizes = [15, 30, 45, 10]"
     ],
     "language": "python",
     "metadata": {},
     "outputs": []
    },
    {
     "cell_type": "code",
     "collapsed": false,
     "input": [
      "###############\n",
      "#  Pie Chart  #\n",
      "###############\n",
      "fig = figure(\"pyplot_piechart\",figsize=(10,10))\n",
      "p = pie(sizes,labels=labels,shadow=true,startangle=90,explode=explode,colors=colors,autopct=\"%1.1f%%\")\n",
      "\n",
      "axis(\"equal\")\n",
      "title(\"Beer\")"
     ],
     "language": "python",
     "metadata": {},
     "outputs": []
    }
   ],
   "metadata": {}
  }
 ]
}