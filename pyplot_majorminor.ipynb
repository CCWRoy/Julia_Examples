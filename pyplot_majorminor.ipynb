{
 "metadata": {
  "language": "Julia",
  "name": "",
  "signature": "sha256:2205871496a0194184577729fcf117bb047adde1c2f50b7f1c88b913186001f9"
 },
 "nbformat": 3,
 "nbformat_minor": 0,
 "worksheets": [
  {
   "cells": [
    {
     "cell_type": "code",
     "collapsed": false,
     "input": [
      "# pyplot_majorminor.jl\n",
      "#\n",
      "# Demonstration of major and minor ticks\n",
      "#\n",
      "# gizmaa (https://gist.github.com/gizmaa/7214002)\n",
      "# Julia 0.3.2\n",
      "# 19.12.13\n",
      "# Last Edit: 12.12.14\n",
      "\n",
      "using PyPlot\n",
      "\n",
      "###################\n",
      "#  Generate Data  #\n",
      "###################\n",
      "x = [0.0:0.01:100.0]\n",
      "y = sin(0.1pi*x).*exp(-0.01x)"
     ],
     "language": "python",
     "metadata": {},
     "outputs": []
    },
    {
     "cell_type": "code",
     "collapsed": false,
     "input": [
      "##########\n",
      "#  Plot  #\n",
      "##########\n",
      "fig = figure(\"pyplot_majorminor\",figsize=(10,10))\n",
      "p = plot(x,y)\n",
      "ax = gca()\n",
      "xlabel(\"X Axis\")\n",
      "ylabel(\"Y Axis\")\n",
      "grid(\"on\")\n",
      "title(\"Major and Minor Ticks\")\n",
      "\n",
      "###########################\n",
      "#  Set the tick interval  #\n",
      "###########################\n",
      "Mx = matplotlib[:ticker][:MultipleLocator](20) # Define interval of major ticks\n",
      "f = matplotlib[:ticker][:FormatStrFormatter](\"%1.2f\") # Define format of tick labels\n",
      "ax[:xaxis][:set_major_locator](Mx) # Set interval of major ticks\n",
      "ax[:xaxis][:set_major_formatter](f) # Set format of tick labels\n",
      "\n",
      "mx = matplotlib[:ticker][:MultipleLocator](5) # Define interval of minor ticks\n",
      "ax[:xaxis][:set_minor_locator](mx) # Set interval of minor ticks\n",
      "\n",
      "My = matplotlib[:ticker][:MultipleLocator](0.5) # Define interval of major ticks\n",
      "ax[:yaxis][:set_major_locator](My) # Set interval of major ticks\n",
      "\n",
      "my = matplotlib[:ticker][:MultipleLocator](0.1) # Define interval of minor ticks\n",
      "ax[:yaxis][:set_minor_locator](my) # Set interval of minor ticks\n",
      "\n",
      "#########################\n",
      "#  Set tick dimensions  #\n",
      "#########################\n",
      "ax[:xaxis][:set_tick_params](which=\"major\",length=10,width=2)\n",
      "ax[:xaxis][:set_tick_params](which=\"minor\",length=5,width=2)\n",
      "\n",
      "fig[:canvas][:draw]() # Update the figure"
     ],
     "language": "python",
     "metadata": {},
     "outputs": []
    }
   ],
   "metadata": {}
  }
 ]
}