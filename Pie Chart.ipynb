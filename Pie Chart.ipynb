{
 "metadata": {
  "language": "Julia",
  "name": "",
  "signature": "sha256:80e59d3d099261019d4997c4b7ec91fc31ce743de904207d2c1d8155fcbd7c0a"
 },
 "nbformat": 3,
 "nbformat_minor": 0,
 "worksheets": [
  {
   "cells": [
    {
     "cell_type": "code",
     "collapsed": false,
     "input": [
      "# pichart_example.jl\n",
      "#\n",
      "# gizmaa (https://gist.github.com/gizmaa/7214002)\n",
      "# Julia 0.3.2\n",
      "# Created: 29.10.13\n",
      "# Last Edit: 09.12.14\n",
      "\n",
      "using PyPlot\n",
      "\n",
      "#################\n",
      "#  Create Data  #\n",
      "#################\n",
      "labels = [\"Lager\",\"Pilsner\",\"Stout\",\"IPA\"]\n",
      "colors = [\"yellowgreen\",\"gold\",\"lightskyblue\",\"lightcoral\"]\n",
      "sizes = NaN*zeros(4)\n",
      "explode = zeros(length(sizes))\n",
      "explode[round(length(sizes)*rand(1))] = 0.1\n",
      "sizes = [15, 30, 45, 10]"
     ],
     "language": "python",
     "metadata": {},
     "outputs": [
      {
       "metadata": {},
       "output_type": "pyout",
       "prompt_number": 4,
       "text": [
        "4-element Array{Int64,1}:\n",
        " 15\n",
        " 30\n",
        " 45\n",
        " 10"
       ]
      }
     ],
     "prompt_number": 4
    },
    {
     "cell_type": "code",
     "collapsed": false,
     "input": [
      "###############\n",
      "#  Pie Chart  #\n",
      "###############\n",
      "fig = figure(\"piechart_example\",figsize=(10,10))\n",
      "p = pie(sizes,labels=labels,shadow=true,startangle=90,explode=explode,colors=colors,autopct=\"%1.1f%%\")\n",
      "\n",
      "axis(\"equal\")\n",
      "title(\"Beer\")"
     ],
     "language": "python",
     "metadata": {},
     "outputs": [
      {
       "metadata": {},
       "output_type": "pyout",
       "prompt_number": 5,
       "text": [
        "PyObject <matplotlib.text.Text object at 0x7f22a702d4d0>"
       ]
      }
     ],
     "prompt_number": 5
    },
    {
     "cell_type": "code",
     "collapsed": false,
     "input": [],
     "language": "python",
     "metadata": {},
     "outputs": []
    }
   ],
   "metadata": {}
  }
 ]
}