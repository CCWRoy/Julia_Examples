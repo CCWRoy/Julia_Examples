{
 "metadata": {
  "language": "Julia",
  "name": "",
  "signature": "sha256:def4aa01c5299ddecde798394f330a7d1c8cd2769692426d8f69e8729b00d87f"
 },
 "nbformat": 3,
 "nbformat_minor": 0,
 "worksheets": [
  {
   "cells": [
    {
     "cell_type": "markdown",
     "metadata": {},
     "source": [
      "# PyPlot Examples\n",
      "by [Gizmaa](https://github.com/gizmaa/Julia_Examples)<br>\n",
      "Last Editted: 15.12.14<br>\n",
      "Latest [PyPlot_Examples.zip](https://github.com/gizmaa/Julia_Examples/blob/master/PyPlot_Examples.zip)\n",
      "\n",
      "**Contents**\n",
      "\n",
      "<ul>\n",
      "<li><a href=\"#translating\">Translating</a></li>\n",
      "<li><a href=\"#basicplots\">Basic Plot</a></li>\n",
      "<li><a href=\"#plotannotation\">Plot Annotation</a></li>\n",
      "<li><a href=\"#customtime\">Time Customization</a></li>\n",
      "<li><a href=\"#subplots\">Subplots</a></li>\n",
      "<li><a href=\"#polarplot\">Polar Plot</a></li>\n",
      "<li><a href=\"#histogram\">Histogram</a></li>\n",
      "<li><a href=\"#barplot\">Bar Plot</a></li>\n",
      "<li><a href=\"#errorbar\">Error Bars</a></li>\n",
      "<li><a href=\"#inexactplot\">Inexact Plot</a></li>\n",
      "<li><a href=\"#piechart\">Pie Chart</a></li>\n",
      "<li><a href=\"#scatterplot\">Scatter Plot</a></li>\n",
      "<li><a href=\"#boxplot\">Box Plot</a></li>\n",
      "<li><a href=\"#majorminorticks\">Major-Minor Ticks</a></li>\n",
      "<li><a href=\"#multiaxis\">Mult-axis Plot</a></li>\n",
      "<li><a href=\"#axisplacement\">Axis Placement</a></li>\n",
      "<li><a href=\"#surfacecontour\">Surface and Contour Plots</a></li>\n",
      "</ul>\n",
      "\n",
      "<hr>\n",
      "\n",
      "## Translating Python Examples<a name=\"translating\"></a>\n",
      " \n",
      "Translating PyPlot code from Python to Julia can be difficult so here are a few examples comparing Python code with its Julia equivalent."
     ]
    },
    {
     "cell_type": "code",
     "collapsed": false,
     "input": [
      "# Python\n",
      "ax.set_ylim([-30, 10])\n",
      "ax.spines['right'].set_color('none')\n",
      "ax.spines['top'].set_color('none')"
     ],
     "language": "python",
     "metadata": {},
     "outputs": []
    },
    {
     "cell_type": "markdown",
     "metadata": {},
     "source": [
      "Source: [Axis Boundary Color](http://matplotlib.org/examples/showcase/xkcd.html)"
     ]
    },
    {
     "cell_type": "code",
     "collapsed": false,
     "input": [
      "# Julia\n",
      "ax[:set_ylim]([-30,10])\n",
      "ax[:spines][\"top\"][:set_color](\"none\") # Remove the top axis boundary\n",
      "ax[:spines][\"right\"][:set_color](\"none\") # Remove the right axis boundary"
     ],
     "language": "python",
     "metadata": {},
     "outputs": []
    },
    {
     "cell_type": "markdown",
     "metadata": {},
     "source": [
      "The above example looked at settings of plot components. The next example will call matplotlib itself."
     ]
    },
    {
     "cell_type": "code",
     "collapsed": false,
     "input": [
      "# Python\n",
      "from matplotlib.dates import MonthLocator, WeekdayLocator, DateFormatter\n",
      "majorformatter = DateFormatter(\"%d.%m.%Y\")\n",
      "minorformatter = DateFormatter(\"%H:%M\")\n",
      "majorlocator = DayLocator(interval=1)\n",
      "minorlocator = HourLocator(byhour=(8,16)) # Not sure about this one"
     ],
     "language": "python",
     "metadata": {},
     "outputs": []
    },
    {
     "cell_type": "markdown",
     "metadata": {},
     "source": [
      "Source: Modified from [this forum post by Nat Wilson](https://groups.google.com/d/msg/julia-users/jIyyRJc6Hho/mSwSCItH3PoJ) and [this matplotlib example](http://matplotlib.org/examples/pylab_examples/date_demo2.html)."
     ]
    },
    {
     "cell_type": "code",
     "collapsed": false,
     "input": [
      "# Julia\n",
      "majorformatter = matplotlib[:dates][:DateFormatter](\"%d.%m.%Y\")\n",
      "minorformatter = matplotlib[:dates][:DateFormatter](\"%H:%M\")\n",
      "majorlocator = matplotlib[:dates][:DayLocator](interval=1)\n",
      "minorlocator = matplotlib[:dates][:HourLocator](byhour=(8, 16))\n",
      "\n",
      "# After an axis exists\n",
      "ax1[:xaxis][:set_major_formatter](majorformatter)\n",
      "ax1[:xaxis][:set_minor_formatter](minorformatter)\n",
      "ax1[:xaxis][:set_major_locator](majorlocator)\n",
      "ax1[:xaxis][:set_minor_locator](minorlocator)"
     ],
     "language": "python",
     "metadata": {},
     "outputs": []
    },
    {
     "cell_type": "markdown",
     "metadata": {},
     "source": [
      "<hr>\n",
      "\n",
      "## Basic Plot<a name=\"basicplots\"></a>\n",
      "Most of the basic commands in PyPlot are very similar to Matlab. "
     ]
    },
    {
     "cell_type": "code",
     "collapsed": false,
     "input": [
      "p = plot(x,y)\n",
      "axes(\"tight\")\n",
      "xlabel(\"X\")\n",
      "ylabel(\"Y\")\n",
      "title(\"Title\")\n",
      "grid(\"on\")"
     ],
     "language": "python",
     "metadata": {},
     "outputs": []
    },
    {
     "cell_type": "markdown",
     "metadata": {},
     "source": [
      "The first noticable change is in the plotting command when non-default values are desirable. "
     ]
    },
    {
     "cell_type": "code",
     "collapsed": false,
     "input": [
      "p = plot_date(x,y,linestyle=\"-\",marker=\"None\",label=\"Basic Plot\")"
     ],
     "language": "python",
     "metadata": {},
     "outputs": []
    },
    {
     "cell_type": "markdown",
     "metadata": {},
     "source": [
      "Instead of `\"linesteyle\",\"-\"` it uses `linestyle=\"-\"` for parameters. \n",
      "\n",
      "<hr>\n",
      "\n",
      "#### Plot Annotation<a name=\"plotannotation\"></a>\n",
      "([IJulia](pyplot_annotation.ipynb), [Code](pyplot_annotation.jl))\n",
      "\n",
      "<img src=\"pyplot_annotation.png\" alt=\"Annotation Examples\" style=\"width:600px\">\n",
      "\n",
      "The following command will point an arrow at a point and label the arrow."
     ]
    },
    {
     "cell_type": "code",
     "collapsed": false,
     "input": [
      "annotate(\"Look, data!\",\n",
      "    xy=[x;y,# Arrow tip\n",
      "    xytext=[x+dx;y+dy], # Text offset from tip\n",
      "    xycoords=\"data\", # Coordinates in in \"data\" units\n",
      "    arrowprops=[\"facecolor\"=>\"black\"]) # Julia dictionary objects are automatically converted to Python object when they pass into a PyPlot function"
     ],
     "language": "python",
     "metadata": {},
     "outputs": []
    },
    {
     "cell_type": "markdown",
     "metadata": {},
     "source": [
      "It's important to note that in Python the *arrowprops* would look like this: `arrowprops=dict(arrowstyle=\"->\")`. Dictionary definitions look like `arrowprops=[\"facecolor\"=>\"black\"]` in Julia.\n",
      "\n",
      "LaTeX can be used by putting an L in front of LaTeX code, `L\"$\\int x = \\frac{x^2}{2} + C$\"`."
     ]
    },
    {
     "cell_type": "code",
     "collapsed": false,
     "input": [
      "annotate(L\"$\\int x = \\frac{x^2}{2} + C$\",\n",
      "    xy=[1;0],\n",
      "    xycoords=\"axes fraction\",\n",
      "    xytext=[-10,10],\n",
      "    textcoords=\"offset points\",\n",
      "    fontsize=30.0,\n",
      "    ha=\"right\",\n",
      "    va=\"bottom\")"
     ],
     "language": "python",
     "metadata": {},
     "outputs": []
    },
    {
     "cell_type": "markdown",
     "metadata": {},
     "source": [
      "<hr>\n",
      "\n",
      "## Time Customization<a name=\"customtime\"></a>\n",
      "([IJulia](pyplot_customtime.ipynb),[Code](pyplot_customtime.jl))\n",
      "\n",
      "The formatting preparation is accomplished by calling the formatters within Matplotlib."
     ]
    },
    {
     "cell_type": "code",
     "collapsed": false,
     "input": [
      "majorformatter = matplotlib[:dates][:DateFormatter](\"%d.%m.%Y\")\n",
      "minorformatter = matplotlib[:dates][:DateFormatter](\"%H:%M\")\n",
      "majorlocator = matplotlib[:dates][:DayLocator](interval=1)\n",
      "minorlocator = matplotlib[:dates][:HourLocator](byhour=(8, 16))"
     ],
     "language": "python",
     "metadata": {},
     "outputs": []
    },
    {
     "cell_type": "markdown",
     "metadata": {},
     "source": [
      "They are then applied to the specific axis, the handle of which is called ax1 in this case."
     ]
    },
    {
     "cell_type": "code",
     "collapsed": false,
     "input": [
      "ax1[:xaxis][:set_major_formatter](majorformatter)\n",
      "ax1[:xaxis][:set_minor_formatter](minorformatter)\n",
      "ax1[:xaxis][:set_major_locator](majorlocator)\n",
      "ax1[:xaxis][:set_minor_locator](minorlocator)"
     ],
     "language": "python",
     "metadata": {},
     "outputs": []
    },
    {
     "cell_type": "markdown",
     "metadata": {},
     "source": [
      "<img src=\"pyplot_customtime.png\" alt=\"Custom Time\" style=\"width:600px\">\n",
      "\n",
      "<hr>\n",
      "\n",
      "## Subplots<a name=\"subplots\"></a>\n",
      "([IJulia](pyplot_subplot.ipynb), [Code](pyplot_subplot.jl))\n",
      "\n",
      "`subplot(YXN)`, Y = number of columns, X = number of rows, N = number of axis being created\n",
      "\n",
      "The number, N, of a grid of axes starts in the upper left (1), and goes right then down. The second axis of a 2x2 grid is the upper right axis."
     ]
    },
    {
     "cell_type": "code",
     "collapsed": false,
     "input": [
      "subplot(313) # Create the third plot of a 3x1 group of subplots\n",
      "\n",
      "suptitle(\"3x1 Subplot\") # Supe title, title for all subplots combined"
     ],
     "language": "python",
     "metadata": {},
     "outputs": []
    },
    {
     "cell_type": "markdown",
     "metadata": {},
     "source": [
      "<img src=\"pyplot_subplot_mixed.png\" alt=\"2x2 Subplot\" style=\"width:600px\">\n",
      "\n",
      "<img src=\"pyplot_subplot_column.png\" alt=\"3x1 Subplot\" style=\"width:600px\">\n",
      "\n",
      "<img src=\"pyplot_subplot_touching.png\" alt=\"3x1 Touching Subplots\" style=\"width:600px\">\n",
      "\n",
      "<hr>\n",
      "\n",
      "## Polar and Windrose Plot<a name=\"polarplot\"></a>\n",
      "([IJulia](pyplot_windrose.ipynb), [Code](pyplot_windrose.jl))"
     ]
    },
    {
     "cell_type": "code",
     "collapsed": false,
     "input": [
      "ax = axes(polar=\"true\") # Create a polar axis\n",
      "# Do your plotting\n",
      "\n",
      "# Optional changes\n",
      "ax[:set_thetagrids]([0:dtheta:360-dtheta]) # Show grid lines from 0 to 360 in increments of dtheta\n",
      "ax[:set_theta_zero_location](\"N\") # Set 0 degrees to the top of the plot\n",
      "ax[:set_theta_direction](-1) # Switch to clockwise\n",
      "fig[:canvas][:draw]() # Update the figure, required when doing additional modifications"
     ],
     "language": "python",
     "metadata": {},
     "outputs": []
    },
    {
     "cell_type": "markdown",
     "metadata": {},
     "source": [
      "<img src=\"pyplot_windrose_barplot.png\" alt=\"Wind Rose - Bar\" style=\"width:600px\">\n",
      "\n",
      "<img src=\"pyplot_windrose_lineplot.png\" alt=\"Wind Rose - Line\" style=\"width:600px\">\n",
      "\n",
      "<hr>\n",
      "\n",
      "## Histogram<a name=\"histogram\"></a>\n",
      "([IJulia](pyplot_histogram.ipynb), [Code](pyplot_histogram.jl))"
     ]
    },
    {
     "cell_type": "code",
     "collapsed": false,
     "input": [
      "h = PyPlot.plt.hist(x,nbins) # Histogram"
     ],
     "language": "python",
     "metadata": {},
     "outputs": []
    },
    {
     "cell_type": "markdown",
     "metadata": {},
     "source": [
      "The PyPlot.plt prefix is required to disambiguate it from the hist command.\n",
      "\n",
      "<img src=\"pyplot_histogram.png\" alt=\"Histogram\" style=\"width:600px\">\n",
      "\n",
      "<hr>\n",
      "\n",
      "## Bar Plot<a name=\"barplot\"></a>\n",
      "([IJulia](pyplot_barplot.ipynb), [Code](pyplot_barplot.jl))"
     ]
    },
    {
     "cell_type": "code",
     "collapsed": false,
     "input": [
      "b = bar(x,y,color=\"#0f87bf\",align=\"center\",alpha=0.4)"
     ],
     "language": "python",
     "metadata": {},
     "outputs": []
    },
    {
     "cell_type": "code",
     "collapsed": false,
     "input": [
      "b = barh(x,y,color=\"#0f87bf\",align=\"center\",alpha=0.4)"
     ],
     "language": "python",
     "metadata": {},
     "outputs": []
    },
    {
     "cell_type": "markdown",
     "metadata": {},
     "source": [
      "<img src=\"pyplot_barplot.png\" alt=\"Bar Plots\" style=\"width:600px\">\n",
      "\n",
      "<hr>\n",
      "\n",
      "## Errorbar Plot<a name=\"errorbar\"></a>\n",
      "([IJulia](pyplot_errorbar.ipynb), [Code](pyplot_errorbar.jl))"
     ]
    },
    {
     "cell_type": "code",
     "collapsed": false,
     "input": [
      "errorbar(x, # Original x data points, N values\n",
      "    y, # Original y data points, N values\n",
      "    yerr=errs, # Plus/minus error ranges, Nx2 values\n",
      "    fmt=\"o\") # Format"
     ],
     "language": "python",
     "metadata": {},
     "outputs": []
    },
    {
     "cell_type": "markdown",
     "metadata": {},
     "source": [
      "<img src=\"pyplot_errorbar.png\" alt=\"Error Bars\" style=\"width:600px\">\n",
      "\n",
      "<hr>\n",
      "\n",
      "## Inexact Plot<a name=\"inexactplot\"></a>\n",
      "([IJulia](pyplot_inexact.ipynb), [Code](pyplot_inexact.jl))\n",
      "\n",
      "The IJulia example does not properly apply all the formatting as the terminal version does."
     ]
    },
    {
     "cell_type": "code",
     "collapsed": false,
     "input": [
      "xkcd() # Set to XKCD mode, based on the comic (hand drawn)\n",
      "# Plot everything"
     ],
     "language": "python",
     "metadata": {},
     "outputs": []
    },
    {
     "cell_type": "markdown",
     "metadata": {},
     "source": [
      "<img src=\"pyplot_inexact.png\" alt=\"Inexact Plot (XKCD Plot)\" style=\"width:600px\">\n",
      "\n",
      "<hr>\n",
      "\n",
      "## Pie Chart<a name=\"piechart\"></a>\n",
      "([IJulia](pyplot_piechart.ipynb), [Code](pyplot_piechart.jl))"
     ]
    },
    {
     "cell_type": "code",
     "collapsed": false,
     "input": [
      "p = pie(sizes,\n",
      "    labels=labels,\n",
      "    shadow=true,\n",
      "    startangle=90,\n",
      "    explode=explode,\n",
      "    colors=colors,\n",
      "    autopct=\"%1.1f%%\")"
     ],
     "language": "python",
     "metadata": {},
     "outputs": []
    },
    {
     "cell_type": "markdown",
     "metadata": {},
     "source": [
      "<img src=\"pyplot_piechart.png\" alt=\"Pie Chart\" style=\"width:600px\">\n",
      "\n",
      "<hr>\n",
      "\n",
      "## Scatter Plot<a name=\"scatterplot\"></a>\n",
      "([IJulia](pyplot_scatterplot.ipynb), [Code](pyplot_scatterplot.jl))"
     ]
    },
    {
     "cell_type": "code",
     "collapsed": false,
     "input": [
      "scatter(x,y,s=areas,alpha=0.5)"
     ],
     "language": "python",
     "metadata": {},
     "outputs": []
    },
    {
     "cell_type": "markdown",
     "metadata": {},
     "source": [
      "<img src=\"pyplot_scatterplot.png\" alt=\"Scatter Plot\" style=\"width:600px\">\n",
      "\n",
      "<hr>\n",
      "\n",
      "## Box Plot<a name=\"boxplot\"></a>\n",
      "([IJulia](pyplot_boxplot.ipynb), [Code](pyplot_boxplot.jl))"
     ]
    },
    {
     "cell_type": "code",
     "collapsed": false,
     "input": [
      "boxplot(data, # Each column/cell is one box\n",
      "    notch=true, # Notched center\n",
      "    whis=0.75, # Whisker length as a percent of inner quartile range\n",
      "    widths=0.25, # Width of boxes\n",
      "    vert=false, # Horizontal boxes\n",
      "    sym=\"rs\") # Symbol color and shape (rs = red square)"
     ],
     "language": "python",
     "metadata": {},
     "outputs": []
    },
    {
     "cell_type": "markdown",
     "metadata": {},
     "source": [
      "<img src=\"pyplot_boxplot.png\" alt=\"Box Plot\" style=\"width:600px\">\n",
      "\n",
      "<hr>\n",
      "\n",
      "## Major and Minor Ticks<a name=\"majorminorticks\"></a>\n",
      "([IJulia](pyplot_majorminor.ipynb), [Code](pyplot_majorminor.jl))"
     ]
    },
    {
     "cell_type": "code",
     "collapsed": false,
     "input": [
      "###########################\n",
      "#  Set the tick interval  #\n",
      "###########################\n",
      "Mx = matplotlib[:ticker][:MultipleLocator](20) # Define interval of major ticks\n",
      "f = matplotlib[:ticker][:FormatStrFormatter](\"%1.2f\") # Define format of tick labels\n",
      "ax[:xaxis][:set_major_locator](Mx) # Set interval of major ticks\n",
      "ax[:xaxis][:set_major_formatter](f) # Set format of tick labels\n",
      "\n",
      "mx = matplotlib[:ticker][:MultipleLocator](5) # Define interval of minor ticks\n",
      "ax[:xaxis][:set_minor_locator](mx) # Set interval of minor ticks\n",
      "\n",
      "My = matplotlib[:ticker][:MultipleLocator](0.5) # Define interval of major ticks\n",
      "ax[:yaxis][:set_major_locator](My) # Set interval of major ticks\n",
      "\n",
      "my = matplotlib[:ticker][:MultipleLocator](0.1) # Define interval of minor ticks\n",
      "ax[:yaxis][:set_minor_locator](my) # Set interval of minor ticks\n",
      "\n",
      "#########################\n",
      "#  Set tick dimensions  #\n",
      "#########################\n",
      "ax[:xaxis][:set_tick_params](which=\"major\",length=10,width=2)\n",
      "ax[:xaxis][:set_tick_params](which=\"minor\",length=5,width=2)\n",
      "\n",
      "fig[:canvas][:draw]() # Update the figure"
     ],
     "language": "python",
     "metadata": {},
     "outputs": []
    },
    {
     "cell_type": "markdown",
     "metadata": {},
     "source": [
      "<img src=\"pyplot_majorminor.png\" alt=\"Major and Minor Ticks\" style=\"width:600px\">\n",
      "\n",
      "<hr>\n",
      "\n",
      "## Multi-axis Plot<a name=\"multiaxis\"></a>\n",
      "([IJulia](pyplot_multiaxis.ipynb), [Code](pyplot_multiaxis.jl))"
     ]
    },
    {
     "cell_type": "code",
     "collapsed": false,
     "input": [
      "################\n",
      "#  Other Axes  #\n",
      "################\n",
      "new_position = [0.06,0.06,0.77,0.91] # Position Method 2\n",
      "ax[:set_position](new_position) # Position Method 2: Change the size and position of the axis\n",
      "#fig[:subplots_adjust](right=0.85) # Position Method 1\n",
      "\n",
      "ax2 = ax[:twinx]() # Create another axis on top of the current axis\n",
      "font2 = [\"color\"=>\"purple\"]\n",
      "ylabel(\"Right Axis\",fontdict=font2)\n",
      "p = plot_date(x,y2,color=\"purple\",linestyle=\"-\",marker=\"o\",label=\"Second\") # Plot a basic line\n",
      "ax2[:set_position](new_position) # Position Method 2\n",
      "setp(ax2[:get_yticklabels](),color=\"purple\") # Y Axis font formatting\n",
      "\n",
      "ax3 = ax[:twinx]() # Create another axis on top of the current axis\n",
      "ax3[:spines][\"right\"][:set_position]((\"axes\",1.12)) # Offset the y-axis label from the axis itself so it doesn't overlap the second axis\n",
      "font3 = [\"color\"=>\"green\"]\n",
      "ylabel(\"Far Right Axis\",fontdict=font3)\n",
      "p = plot_date(x,y3,color=\"green\",linestyle=\"-\",marker=\"o\",label=\"Third\") # Plot a basic line\n",
      "ax3[:set_position](new_position) # Position Method 2\n",
      "setp(ax3[:get_yticklabels](),color=\"green\") # Y Axis font formatting\n",
      "\n",
      "axis(\"tight\")\n",
      "\n",
      "# Enable just the right part of the frame\n",
      "ax3[:set_frame_on](true) # Make the entire frame visible\n",
      "ax3[:patch][:set_visible](false) # Make the patch (background) invisible so it doesn't cover up the other axes' plots\n",
      "ax3[:spines][\"top\"][:set_visible](false) # Hide the top edge of the axis\n",
      "ax3[:spines][\"bottom\"][:set_visible](false) # Hide the bottom edge of the axis\n",
      "\n",
      "fig[:canvas][:draw]() # Update the figure"
     ],
     "language": "python",
     "metadata": {},
     "outputs": []
    },
    {
     "cell_type": "markdown",
     "metadata": {},
     "source": [
      "<img src=\"pyplot_multiaxis.png\" alt=\"Multi-axis Plot\" style=\"width:600px\">\n",
      "\n",
      "<hr>\n",
      "\n",
      "## Axis Placement<a name=\"axisplacement\"></a>\n",
      "([IJulia](pyplot_axis_placement.ipynb), [Code](pyplot_axis_placement.jl))"
     ]
    },
    {
     "cell_type": "code",
     "collapsed": false,
     "input": [
      "ax[:spines][\"top\"][:set_visible](false) # Hide the top edge of the axis\n",
      "ax[:spines][\"right\"][:set_visible](false) # Hide the right edge of the axis\n",
      "ax[:spines][\"left\"][:set_position](\"center\") # Move the right axis to the center\n",
      "ax[:spines][\"bottom\"][:set_position](\"center\") # Most the bottom axis to the center\n",
      "ax[:xaxis][:set_ticks_position](\"bottom\") # Set the x-ticks to only the bottom\n",
      "ax[:yaxis][:set_ticks_position](\"left\") # Set the y-ticks to only the left"
     ],
     "language": "python",
     "metadata": {},
     "outputs": []
    },
    {
     "cell_type": "code",
     "collapsed": false,
     "input": [
      "ax2[:spines][\"top\"][:set_visible](false) # Hide the top edge of the axis\n",
      "ax2[:spines][\"right\"][:set_visible](false) # Hide the right edge of the axis\n",
      "ax2[:xaxis][:set_ticks_position](\"bottom\")\n",
      "ax2[:yaxis][:set_ticks_position](\"left\")\n",
      "ax2[:spines][\"left\"][:set_position]((\"axes\",-0.03)) # Offset the left scale from the axis\n",
      "ax2[:spines][\"bottom\"][:set_position]((\"axes\",-0.05)) # Offset the bottom scale from the axis"
     ],
     "language": "python",
     "metadata": {},
     "outputs": []
    },
    {
     "cell_type": "markdown",
     "metadata": {},
     "source": [
      "<img src=\"pyplot_axis_placement.png\" alt=\"Axis Placement\" style=\"width:600px\">\n",
      "\n",
      "<hr>\n",
      "\n",
      "## Surface and Contour Plots<a name=\"surfacecontour\"></a>\n",
      "([IJulia](pyplot_surfaceplot.ipynb), [Code](pyplot_surfaceplot.jl))\n",
      "\n",
      "Thanks to [Daniel H\u00f8egh](https://gist.github.com/dhoegh) for providing this example."
     ]
    },
    {
     "cell_type": "code",
     "collapsed": false,
     "input": [
      "ax[:plot_surface](xgrid, ygrid, z, rstride=2,edgecolors=\"k\", cstride=2,\n",
      "   cmap=ColorMap(\"gray\"), alpha=0.8, linewidth=0.25)"
     ],
     "language": "python",
     "metadata": {},
     "outputs": []
    },
    {
     "cell_type": "code",
     "collapsed": false,
     "input": [
      "cp = ax[:contour](xgrid, ygrid, z, colors=\"black\", linewidth=2.0)\n",
      "ax[:clabel](cp, inline=1, fontsize=10)"
     ],
     "language": "python",
     "metadata": {},
     "outputs": []
    },
    {
     "cell_type": "markdown",
     "metadata": {},
     "source": [
      "<img src=\"pyplot_surfaceplot.png\" alt=\"surface and Contour Plots\" style=\"width:600px\">"
     ]
    }
   ],
   "metadata": {}
  }
 ]
}