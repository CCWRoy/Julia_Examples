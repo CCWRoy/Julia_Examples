{
 "metadata": {
  "language": "Julia",
  "name": "",
  "signature": "sha256:a6bc340646a2d96bec816f634f465b50f3b6ac7dee100b37a431795e548248fa"
 },
 "nbformat": 3,
 "nbformat_minor": 0,
 "worksheets": [
  {
   "cells": [
    {
     "cell_type": "code",
     "collapsed": false,
     "input": [
      "# pyplot_barplot.jl\n",
      "#\n",
      "# gizmaa (https://gist.github.com/gizmaa/7214002)\n",
      "# Julia 0.3.2\n",
      "# Created: 29.10.13\n",
      "# Last Edit: 12.12.14\n",
      "\n",
      "using PyPlot\n",
      "\n",
      "close(\"all\") # Close all currently open figures\n",
      "\n",
      "#################\n",
      "#  Create Data  #\n",
      "#################\n",
      "x = [1:1:50]\n",
      "y = 100*rand(50);"
     ],
     "language": "python",
     "metadata": {},
     "outputs": []
    },
    {
     "cell_type": "code",
     "collapsed": false,
     "input": [
      "################\n",
      "##  Bar Plot  ##\n",
      "################\n",
      "fig = figure(\"pyplot_barplot\",figsize=(10,10))\n",
      "subplot(211)\n",
      "b = bar(x,y,color=\"#0f87bf\",align=\"center\",alpha=0.4)\n",
      "axis(\"tight\")\n",
      "title(\"Vertical Bar Plot\")\n",
      "grid(\"on\")\n",
      "xlabel(\"X\")\n",
      "ylabel(\"Y\")\n",
      "\n",
      "subplot(212)\n",
      "b = barh(x,y,color=\"#0f87bf\",align=\"center\",alpha=0.4)\n",
      "\n",
      "axis(\"tight\")\n",
      "title(\"Horizontal Bar Plot\")\n",
      "grid(\"on\")\n",
      "xlabel(\"X\")\n",
      "ylabel(\"Y\")\n",
      "\n",
      "suptitle(\"Bar Plot Examples\")"
     ],
     "language": "python",
     "metadata": {},
     "outputs": []
    }
   ],
   "metadata": {}
  }
 ]
}