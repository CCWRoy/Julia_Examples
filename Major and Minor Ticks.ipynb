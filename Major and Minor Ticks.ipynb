{
 "metadata": {
  "language": "Julia",
  "name": "",
  "signature": "sha256:5ef7933be40851ad5a34b9fcccddc24bb42640c5a2b2d4c59a0cef8e8505fc77"
 },
 "nbformat": 3,
 "nbformat_minor": 0,
 "worksheets": [
  {
   "cells": [
    {
     "cell_type": "code",
     "collapsed": false,
     "input": [
      "# major_minor_ticks.jl\n",
      "#\n",
      "# Demonstration of major and minor ticks\n",
      "#\n",
      "# gizmaa (https://gist.github.com/gizmaa/7214002)\n",
      "# Julia 0.3.2\n",
      "# 19.12.13\n",
      "# Last Edit: 09.12.14\n",
      "\n",
      "using PyPlot\n",
      "\n",
      "###################\n",
      "#  Generate Data  #\n",
      "###################\n",
      "x = [0.0:0.01:100.0]\n",
      "y = sin(0.1pi*x).*exp(-0.01x)"
     ],
     "language": "python",
     "metadata": {},
     "outputs": [
      {
       "metadata": {},
       "output_type": "pyout",
       "prompt_number": 2,
       "text": [
        "10001-element Array{Float64,1}:\n",
        "  0.0        \n",
        "  0.00314127 \n",
        "  0.00628189 \n",
        "  0.00942181 \n",
        "  0.012561   \n",
        "  0.0156995  \n",
        "  0.0188371  \n",
        "  0.021974   \n",
        "  0.02511    \n",
        "  0.0282451  \n",
        "  0.0313794  \n",
        "  0.0345127  \n",
        "  0.037645   \n",
        "  \u22ee          \n",
        " -0.0127245  \n",
        " -0.0115669  \n",
        " -0.0104095  \n",
        " -0.00925224 \n",
        " -0.0080951  \n",
        " -0.00693812 \n",
        " -0.00578129 \n",
        " -0.00462464 \n",
        " -0.00346817 \n",
        " -0.0023119  \n",
        " -0.00115584 \n",
        " -4.50522e-16"
       ]
      }
     ],
     "prompt_number": 2
    },
    {
     "cell_type": "code",
     "collapsed": false,
     "input": [
      "##########\n",
      "#  Plot  #\n",
      "##########\n",
      "fig = figure(\"major_minor_ticks\",figsize=(10,10))\n",
      "p = plot(x,y)\n",
      "ax = gca()\n",
      "xlabel(\"X Axis\")\n",
      "ylabel(\"Y Axis\")\n",
      "grid(\"on\")\n",
      "title(\"Major and Minor Ticks\")\n",
      "\n",
      "###########################\n",
      "#  Set the tick interval  #\n",
      "###########################\n",
      "Mx = matplotlib[:ticker][:MultipleLocator](20) # Define interval of major ticks\n",
      "f = matplotlib[:ticker][:FormatStrFormatter](\"%1.2f\") # Define format of tick labels\n",
      "ax[:xaxis][:set_major_locator](Mx) # Set interval of major ticks\n",
      "ax[:xaxis][:set_major_formatter](f) # Set format of tick labels\n",
      "\n",
      "mx = matplotlib[:ticker][:MultipleLocator](5) # Define interval of minor ticks\n",
      "ax[:xaxis][:set_minor_locator](mx) # Set interval of minor ticks\n",
      "\n",
      "My = matplotlib[:ticker][:MultipleLocator](0.5) # Define interval of major ticks\n",
      "ax[:yaxis][:set_major_locator](My) # Set interval of major ticks\n",
      "\n",
      "my = matplotlib[:ticker][:MultipleLocator](0.1) # Define interval of minor ticks\n",
      "ax[:yaxis][:set_minor_locator](my) # Set interval of minor ticks\n",
      "\n",
      "#########################\n",
      "#  Set tick dimensions  #\n",
      "#########################\n",
      "ax[:xaxis][:set_tick_params](which=\"major\",length=10,width=2)\n",
      "ax[:xaxis][:set_tick_params](which=\"minor\",length=5,width=2)\n",
      "\n",
      "fig[:canvas][:draw]() # Update the figure"
     ],
     "language": "python",
     "metadata": {},
     "outputs": [],
     "prompt_number": 3
    },
    {
     "cell_type": "code",
     "collapsed": false,
     "input": [],
     "language": "python",
     "metadata": {},
     "outputs": []
    }
   ],
   "metadata": {}
  }
 ]
}