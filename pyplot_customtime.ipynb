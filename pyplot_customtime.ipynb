{
 "metadata": {
  "language": "Julia",
  "name": "",
  "signature": "sha256:56ecd3ae4fb3d184ad38c8f2adfc1b5d092fc720d3b883e785565add292663e4"
 },
 "nbformat": 3,
 "nbformat_minor": 0,
 "worksheets": [
  {
   "cells": [
    {
     "cell_type": "code",
     "collapsed": false,
     "input": [
      "# pyplot_customtime.jl\n",
      "#\n",
      "#    Demonstrate reformatting of time axis\n",
      "#\n",
      "# gizmaa (https://gist.github.com/gizmaa/7214002)\n",
      "# Julia 0.3.2\n",
      "# 27.11.2014\n",
      "# Last Edit: 12.12.2014\n",
      "\n",
      "using PyPlot\n",
      "using Dates\n",
      "\n",
      "# Create Data\n",
      "dt = Millisecond(100)\n",
      "time = [DateTime(2014,11,20):dt:DateTime(2014,11,22)]\n",
      "y = fill!(Array(Float64,length(time)),42)\n",
      "#y = floor(100*rand(length(time))) # Fails unless the time span is very short\n",
      "\n",
      "font1 = [\"fontname\"=>\"Sans\",\"style\"=>\"normal\"]\n",
      "time2 = float64(time)/1000/60/60/24 # Convert time from milliseconds from day 0 to days from day 0\n",
      "timespan = \"\\n\" * Dates.format(minimum(time),\"yyyy-mm-dd HH:MM:SS\") * \" - \" * Dates.format(maximum(time),\"yyyy-mm-dd HH:MM:SS\")\n",
      "\n",
      "majorformatter = matplotlib[:dates][:DateFormatter](\"%d.%m.%Y\")\n",
      "minorformatter = matplotlib[:dates][:DateFormatter](\"%H:%M\")\n",
      "majorlocator = matplotlib[:dates][:DayLocator](interval=1)\n",
      "minorlocator = matplotlib[:dates][:HourLocator](byhour=(8, 16))"
     ],
     "language": "python",
     "metadata": {},
     "outputs": []
    },
    {
     "cell_type": "code",
     "collapsed": false,
     "input": [
      "# Plot\n",
      "fig = figure(\"pyplot_customtime\",figsize=(12,12)) # Create a figure and save the handle\n",
      "ax1 = axes()\n",
      "p1 = plot_date(time2,y,linestyle=\"-\",marker=\"None\",label=\"test\")\n",
      "axis(\"tight\")\n",
      "title(\"Random Data Against Time\\n\" * timespan)\n",
      "grid(\"on\")\n",
      "xlabel(\"Time\")\n",
      "ylabel(\"Stuff\",fontdict=font1)\n",
      "ax1[:xaxis][:set_major_formatter](majorformatter)\n",
      "ax1[:xaxis][:set_minor_formatter](minorformatter)\n",
      "ax1[:xaxis][:set_major_locator](majorlocator)\n",
      "ax1[:xaxis][:set_minor_locator](minorlocator)\n",
      "fig[:autofmt_xdate](bottom=0.2,rotation=30,ha=\"right\")\n",
      "fig[:canvas][:draw]() # Update the figure\n",
      "PyPlot.tight_layout()"
     ],
     "language": "python",
     "metadata": {},
     "outputs": []
    }
   ],
   "metadata": {}
  }
 ]
}