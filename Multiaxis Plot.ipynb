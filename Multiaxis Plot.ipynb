{
 "metadata": {
  "language": "Julia",
  "name": "",
  "signature": "sha256:d1e2ebb461f23383dba355cf2b44228e1a7a1a1cd601edfd9af4157e7571f52b"
 },
 "nbformat": 3,
 "nbformat_minor": 0,
 "worksheets": [
  {
   "cells": [
    {
     "cell_type": "code",
     "collapsed": false,
     "input": [
      "# multiaxis.jl\n",
      "#\n",
      "# Example of using multiple overlapping axes\n",
      "#\n",
      "# gizmaa (https://gist.github.com/gizmaa/7214002)\n",
      "# Julia 0.3.2\n",
      "# 19.12.13\n",
      "# Last Edit: 09.12.14\n",
      "\n",
      "using PyPlot\n",
      "\n",
      "##################\n",
      "#  Make Up Data  #\n",
      "##################\n",
      "n = 15 # Number of values\n",
      "\n",
      "x = [1:n]\n",
      "y1 = 10rand(n,1) - 2\n",
      "y2 = 1000rand(n,1)\n",
      "y3 = 30rand(n,1) - 15"
     ],
     "language": "python",
     "metadata": {},
     "outputs": [
      {
       "metadata": {},
       "output_type": "pyout",
       "prompt_number": 2,
       "text": [
        "15x1 Array{Float64,2}:\n",
        "  -0.137623\n",
        "  -4.77429 \n",
        "  -1.9187  \n",
        "   1.89545 \n",
        "  -9.44086 \n",
        " -11.6833  \n",
        "  14.7053  \n",
        "   4.18111 \n",
        "  -1.87561 \n",
        "   0.727688\n",
        "   5.71151 \n",
        "   0.745804\n",
        " -10.2119  \n",
        "   6.13237 \n",
        "  -6.6629  "
       ]
      }
     ],
     "prompt_number": 2
    },
    {
     "cell_type": "code",
     "collapsed": false,
     "input": [
      "##########\n",
      "#  Plot  #\n",
      "##########\n",
      "fig = figure(\"multiaxis_example\",figsize=(10,10))\n",
      "p = plot(x,y1,linestyle=\"-\",marker=\"o\",label=\"First\") # Plot a basic line\n",
      "ax = gca()\n",
      "title(\"Multi-axis Plot\")\n",
      "\n",
      "xlabel(\"X Axis\")\n",
      "font1 = [\"color\"=>\"blue\"]\n",
      "ylabel(\"Left Axis\",fontdict=font1)\n",
      "setp(ax[:get_yticklabels](),color=\"blue\") # Y Axis font formatting\n",
      "\n",
      "################\n",
      "#  Other Axes  #\n",
      "################\n",
      "new_position = [0.06,0.06,0.77,0.91] # Position Method 2\n",
      "ax[:set_position](new_position) # Position Method 2: Change the size and position of the axis\n",
      "#fig[:subplots_adjust](right=0.85) # Position Method 1\n",
      "\n",
      "ax2 = ax[:twinx]() # Create another axis on top of the current axis\n",
      "font2 = [\"color\"=>\"purple\"]\n",
      "ylabel(\"Right Axis\",fontdict=font2)\n",
      "p = plot_date(x,y2,color=\"purple\",linestyle=\"-\",marker=\"o\",label=\"Second\") # Plot a basic line\n",
      "ax2[:set_position](new_position) # Position Method 2\n",
      "setp(ax2[:get_yticklabels](),color=\"purple\") # Y Axis font formatting\n",
      "\n",
      "ax3 = ax[:twinx]() # Create another axis on top of the current axis\n",
      "ax3[:spines][\"right\"][:set_position]((\"axes\",1.12)) # Offset the y-axis label from the axis itself so it doesn't overlap the second axis\n",
      "font3 = [\"color\"=>\"green\"]\n",
      "ylabel(\"Far Right Axis\",fontdict=font3)\n",
      "p = plot_date(x,y3,color=\"green\",linestyle=\"-\",marker=\"o\",label=\"Third\") # Plot a basic line\n",
      "ax3[:set_position](new_position) # Position Method 2\n",
      "setp(ax3[:get_yticklabels](),color=\"green\") # Y Axis font formatting\n",
      "\n",
      "axis(\"tight\")\n",
      "\n",
      "# Enable just the right part of the frame\n",
      "ax3[:set_frame_on](true) # Make the entire frame visible\n",
      "ax3[:patch][:set_visible](false) # Make the patch (background) invisible so it doesn't cover up the other axes' plots\n",
      "ax3[:spines][\"top\"][:set_visible](false) # Hide the top edge of the axis\n",
      "ax3[:spines][\"bottom\"][:set_visible](false) # Hide the bottom edge of the axis\n",
      "\n",
      "fig[:canvas][:draw]() # Update the figure"
     ],
     "language": "python",
     "metadata": {},
     "outputs": [],
     "prompt_number": 3
    },
    {
     "cell_type": "code",
     "collapsed": false,
     "input": [],
     "language": "python",
     "metadata": {},
     "outputs": []
    }
   ],
   "metadata": {}
  }
 ]
}