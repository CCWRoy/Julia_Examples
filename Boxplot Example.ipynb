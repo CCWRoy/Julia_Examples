{
 "metadata": {
  "language": "Julia",
  "name": "",
  "signature": "sha256:0a12cf0ed764412fe1f0c79ce6b1c4e5350ee20c3ef1d5658d33b1bc7ed93bb4"
 },
 "nbformat": 3,
 "nbformat_minor": 0,
 "worksheets": [
  {
   "cells": [
    {
     "cell_type": "code",
     "collapsed": false,
     "input": [
      "# boxplot_example.jl\n",
      "#\n",
      "# gizmaa (https://gist.github.com/gizmaa/7214002)\n",
      "# Julia 0.3.2\n",
      "# Created: 30.10.13\n",
      "# Last Edit: 09.12.14\n",
      "\n",
      "using PyPlot\n",
      "\n",
      "# http://matplotlib.org/api/pyplot_api.html#matplotlib.pyplot.boxplot\n",
      "# http://matplotlib.org/examples/pylab_examples/boxplot_demo.html\n",
      "\n",
      "###################\n",
      "##  Create Data  ##\n",
      "###################\n",
      "# Boxes with irregular amounts of data can\n",
      "# be plotted by putting the data into bins in an ANY array.\n",
      "num = 5\n",
      "data = Array(Any,num) # Preallocate an ANY array for the storage of final values\n",
      "for i=1:1:num\n",
      "\tnum1 = round(40rand(1)) + 10\n",
      "\tnum1 = int(num1[1])\n",
      "\tnum2 = round(20rand(1)) + 10\n",
      "\tnum2 = int(num2[1])\n",
      "\tnum3 = round(10rand(1)) + 1\n",
      "\tnum3 = int(num3[1])\n",
      "\tnum4 = round(10rand(1)) + 1\n",
      "\tnum4 = int(num4[1])\n",
      "\t\n",
      "\tspread = 100rand(num1)\n",
      "\tcenter = 50rand(num2)\n",
      "\tflier_high = 100rand(num3) + 100\n",
      "\tflier_low = -100rand(num4)\n",
      "\tdata[i] = [spread,center,flier_high,flier_low]\n",
      "end"
     ],
     "language": "python",
     "metadata": {},
     "outputs": [],
     "prompt_number": 2
    },
    {
     "cell_type": "code",
     "collapsed": false,
     "input": [
      "################\n",
      "##  Box Plot  ##\n",
      "################\n",
      "fig = figure(\"boxplot_example\",figsize=(10,10))\n",
      "subplot(221)\n",
      "boxplot(data) # Basic\n",
      "\n",
      "subplot(222)\n",
      "boxplot(data,1)\n",
      "\n",
      "subplot(223)\n",
      "boxplot(data,0,\"gD\")\n",
      "\n",
      "subplot(224)\n",
      "boxplot(data, # Each column/cell is one box\n",
      "\tnotch=true, # Notched center\n",
      "\twhis=0.75, # Whisker length as a percent of inner quartile range\n",
      "\twidths=0.25, # Width of boxes\n",
      "\tvert=false, # Horizontal boxes\n",
      "\tsym=\"rs\") # Symbol color and shape (rs = red square)\n",
      "\n",
      "suptitle(\"Box Plot Examples\")"
     ],
     "language": "python",
     "metadata": {},
     "outputs": [
      {
       "metadata": {},
       "output_type": "pyout",
       "prompt_number": 3,
       "text": [
        "PyObject <matplotlib.text.Text object at 0x7f8034193110>"
       ]
      }
     ],
     "prompt_number": 3
    },
    {
     "cell_type": "code",
     "collapsed": false,
     "input": [],
     "language": "python",
     "metadata": {},
     "outputs": []
    }
   ],
   "metadata": {}
  }
 ]
}