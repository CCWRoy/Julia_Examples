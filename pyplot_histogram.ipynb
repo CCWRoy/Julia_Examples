{
 "metadata": {
  "language": "Julia",
  "name": "",
  "signature": "sha256:5e32909f70d6acee5186bbdaee542c3e94387e3e5323826841cb584d1bd28dbe"
 },
 "nbformat": 3,
 "nbformat_minor": 0,
 "worksheets": [
  {
   "cells": [
    {
     "cell_type": "code",
     "collapsed": false,
     "input": [
      "# pyplot_histogram.jl\n",
      "#\n",
      "# gizmaa (https://gist.github.com/gizmaa/7214002)\n",
      "# Julia 0.3.2\n",
      "# Created: 29.10.13\n",
      "# Last Edit: 12.12.14\n",
      "\n",
      "using PyPlot\n",
      "\n",
      "#################\n",
      "#  Create Data  #\n",
      "#################\n",
      "x = randn(1000) # Values\n",
      "nbins = 50 # Number of bins"
     ],
     "language": "python",
     "metadata": {},
     "outputs": []
    },
    {
     "cell_type": "code",
     "collapsed": false,
     "input": [
      "##########\n",
      "#  Plot  #\n",
      "##########\n",
      "fig = figure(\"pyplot_histogram\",figsize=(10,10)) # Not strictly required\n",
      "ax = axes() # Not strictly required\n",
      "h = PyPlot.plt.hist(x,nbins) # Histogram, PyPlot.plt required to differentiate with conflicting hist command\n",
      "\n",
      "grid(\"on\")\n",
      "xlabel(\"X\")\n",
      "ylabel(\"Y\")\n",
      "title(\"Histogram\")"
     ],
     "language": "python",
     "metadata": {},
     "outputs": []
    }
   ],
   "metadata": {}
  }
 ]
}