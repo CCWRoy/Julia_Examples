{
 "metadata": {
  "language": "Julia",
  "name": "",
  "signature": "sha256:8cfb6f15252e296af23da6b9e15c1817c9ca51f659aadbe060cdb3afe622372d"
 },
 "nbformat": 3,
 "nbformat_minor": 0,
 "worksheets": [
  {
   "cells": [
    {
     "cell_type": "code",
     "collapsed": false,
     "input": [
      "# pyplot_inexact.jl\n",
      "#\n",
      "# gizmaa (https://gist.github.com/gizmaa/7214002)\n",
      "# Julia 0.3.2\n",
      "# Created: 29.10.13\n",
      "# Last Edit: 12.12.14\n",
      "\n",
      "using PyPlot\n",
      "# http://matplotlib.org/examples/showcase/xkcd.html\n",
      "\n",
      "#################\n",
      "#  Create Data  #\n",
      "#################\n",
      "x = [1:1:100]\n",
      "y = ones(100)\n",
      "for i=70:1:100\n",
      "    y[i] = y[i] - (0.7/30)*(i-70)\n",
      "end"
     ],
     "language": "python",
     "metadata": {},
     "outputs": [],
     "prompt_number": 1
    },
    {
     "cell_type": "code",
     "collapsed": false,
     "input": [
      "##############\n",
      "#  XKCD Plot #\n",
      "##############\n",
      "xkcd() # Set to XKCD mode, based on the comic (hand drawn)\n",
      "fig = figure(\"pyplot_inexact\",figsize=(10,10))\n",
      "ax = axes()\n",
      "p = plot(x,y)\n",
      "ax[:set_ylim]([0.2,1.1])\n",
      "annotate(\"THE DAY I REALIZED\\nI COULD COOK BACON\\nWHENEVER I WANTED\",xy=[70,1],arrowprops=[\"arrowstyle\"=>\"->\"],xytext=[25,0.8])\n",
      "\n",
      "xticks([])\n",
      "yticks([])\n",
      "xlabel(\"TIME\")\n",
      "ylabel(\"MY OVERALL HEALTH\")\n",
      "title(\"Stove Owndership\\nhttp://xkcd.com/418/\")\n",
      "\n",
      "ax[:spines][\"top\"][:set_color](\"none\") # Remove the top axis boundary\n",
      "ax[:spines][\"right\"][:set_color](\"none\") # Remove the right axis boundary\n",
      "fig[:canvas][:draw]() # Update the figure"
     ],
     "language": "python",
     "metadata": {},
     "outputs": [
      {
       "output_type": "stream",
       "stream": "stderr",
       "text": [
        "/usr/local/lib/python2.7/dist-packages/matplotlib-1.4.2-py2.7-linux-x86_64.egg/matplotlib/font_manager.py:1279: UserWarning: findfont: Font family [u'Humor Sans', u'Comic Sans MS'] not found. Falling back to Bitstream Vera Sans\n",
        "  (prop.get_family(), self.defaultFamily[fontext]))\n"
       ]
      }
     ],
     "prompt_number": 2
    },
    {
     "cell_type": "code",
     "collapsed": false,
     "input": [],
     "language": "python",
     "metadata": {},
     "outputs": []
    }
   ],
   "metadata": {}
  }
 ]
}