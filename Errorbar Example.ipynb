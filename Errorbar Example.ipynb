{
 "metadata": {
  "language": "Julia",
  "name": "",
  "signature": "sha256:db4bbe812a2aa51f701173f22903d72bd0c6f6c6adb893715d70a9183d48c0ed"
 },
 "nbformat": 3,
 "nbformat_minor": 0,
 "worksheets": [
  {
   "cells": [
    {
     "cell_type": "code",
     "collapsed": false,
     "input": [
      "# errorbar_test.jl\n",
      "#\n",
      "# gizmaa (https://gist.github.com/gizmaa/7214002)\n",
      "# Julia 0.3.2\n",
      "# Last Edit: 09.12.14\n",
      "\n",
      "using Dates\n",
      "using PyPlot\n",
      "\n",
      "###################################\n",
      "#  Generate a few points of data  #\n",
      "###################################\n",
      "x = [DateTime(2013,10,4):Day(1):DateTime(2013,10,9)]\n",
      "y = [0.9;0.75;0.5;0.4;0.35;0.3]\n",
      "uppererror = [0.05 0.05 0.05 0.03 0.15 0.05]\n",
      "lowererror = [0.15 0.2 0.05 0.1 0.05 0.05]\n",
      "errs = [lowererror;uppererror]\n",
      "\n",
      "println(\"From \" * string(x[1]) * \" to \" * string(x[end]))\n",
      "\n",
      "x = float64(x)/1000/60/60/24 # Convert time from milliseconds from day 0 to days from day 0"
     ],
     "language": "python",
     "metadata": {},
     "outputs": [
      {
       "output_type": "stream",
       "stream": "stdout",
       "text": [
        "From 2013-10-04T00:00:00 to 2013-10-09T00:00:00"
       ]
      },
      {
       "output_type": "stream",
       "stream": "stdout",
       "text": [
        "\n"
       ]
      },
      {
       "metadata": {},
       "output_type": "pyout",
       "prompt_number": 2,
       "text": [
        "6-element Array{Float64,1}:\n",
        " 735145.0\n",
        " 735146.0\n",
        " 735147.0\n",
        " 735148.0\n",
        " 735149.0\n",
        " 735150.0"
       ]
      }
     ],
     "prompt_number": 2
    },
    {
     "cell_type": "code",
     "collapsed": false,
     "input": [
      "##########\n",
      "#  Plot  #\n",
      "##########\n",
      "fig = figure(\"errorbar_irregular\",figsize=(10,10)) # Create a new figure\n",
      "p = plot_date(x,y,linestyle=\"-\",marker=\"None\",label=\"Base Plot\") # Basic line plot\n",
      "pe = errorbar(x,y,yerr=errs,fmt=\"o\") # Plot irregular error bars\n",
      "axis(\"tight\")\n",
      "ax = gca() # Get the handle of the current axis\n",
      "title(\"Error Bar Example\")\n",
      "xlabel(\"Time\")\n",
      "ylabel(\"Some Data\")\n",
      "grid(\"on\")\n",
      "\n",
      "fig[:autofmt_xdate](bottom=0.2,rotation=30,ha=\"right\") # Autoformat the time format and rotate the labels so they don't overlap\n",
      "fig[:canvas][:draw]() # Update the figure"
     ],
     "language": "python",
     "metadata": {},
     "outputs": [],
     "prompt_number": 3
    },
    {
     "cell_type": "code",
     "collapsed": false,
     "input": [],
     "language": "python",
     "metadata": {},
     "outputs": []
    }
   ],
   "metadata": {}
  }
 ]
}